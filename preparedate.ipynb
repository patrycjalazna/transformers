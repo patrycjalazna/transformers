{
  "cells": [
    {
      "cell_type": "markdown",
      "metadata": {
        "colab_type": "text",
        "id": "view-in-github"
      },
      "source": [
        "<a href=\"https://colab.research.google.com/github/patrycjalazna/transformers/blob/main/project.ipynb\" target=\"_parent\"><img src=\"https://colab.research.google.com/assets/colab-badge.svg\" alt=\"Open In Colab\"/></a>"
      ]
    },
    {
      "cell_type": "markdown",
      "metadata": {
        "id": "lsVorHKjEAuS"
      },
      "source": [
        "## Importy💅🏻💅🏻💅🏻"
      ]
    },
    {
      "cell_type": "code",
      "execution_count": 28,
      "metadata": {
        "colab": {
          "base_uri": "https://localhost:8080/"
        },
        "id": "i4mxNeEwETVC",
        "outputId": "8e07720c-7df3-4341-9818-f49a8b14751b"
      },
      "outputs": [
        {
          "name": "stderr",
          "output_type": "stream",
          "text": [
            "ERROR: Invalid requirement: \"'transformers==4.12.5'\"\n",
            "WARNING: You are using pip version 20.2.3; however, version 22.0.3 is available.\n",
            "You should consider upgrading via the 'c:\\users\\masob\\appdata\\local\\programs\\python\\python39\\python.exe -m pip install --upgrade pip' command.\n"
          ]
        }
      ],
      "source": [
        "!pip install 'transformers==4.12.5' 'tokenizers==0.10.3' 'sentencepiece==0.1.96' 'datasets==1.16.1' 'accelerate==0.5.1' 'sacremoses==0.0.46' 'sacrebleu==2.0.0' 'torch';"
      ]
    },
    {
      "cell_type": "code",
      "execution_count": 29,
      "metadata": {
        "id": "ttq7YMKmCGsd"
      },
      "outputs": [],
      "source": [
        "import torch\n",
        "from torch import nn\n",
        "from torch.nn import MSELoss, CrossEntropyLoss, BCEWithLogitsLoss\n",
        "from transformers import RobertaForSequenceClassification, RobertaModel\n",
        "from transformers.modeling_outputs import SequenceClassifierOutput\n",
        "import json\n",
        "from pathlib import Path\n",
        "from typing import Dict, List\n",
        "from datasets import load_dataset\n",
        "import os\n",
        "import random"
      ]
    },
    {
      "cell_type": "markdown",
      "metadata": {
        "id": "KGC7tQxkD_65"
      },
      "source": [
        "## 🤗 Dataset"
      ]
    },
    {
      "cell_type": "markdown",
      "metadata": {
        "id": "6i8tCAdDE_X6"
      },
      "source": [
        "Dataset *emotion* jest zbiorem danych angielskich wiadomości na Twitterze zawierających sześć podstawowych emocji: gniew, strach, radość, miłość, smutek i zaskoczenie."
      ]
    },
    {
      "cell_type": "markdown",
      "metadata": {
        "id": "GQhq_Z1oF0cE"
      },
      "source": [
        "Link do datasetu: [hugginface](https://huggingface.co/datasets/emotion)"
      ]
    },
    {
      "cell_type": "markdown",
      "metadata": {
        "id": "_YpVh9EvFkeM"
      },
      "source": [
        "Przykład:\n",
        "\n",
        "```\n",
        "{\n",
        "    \"label\": 0,\n",
        "    \"text\": \"im feeling quite sad and sorry for myself but ill snap out of it soon\"\n",
        "}\n",
        "```\n",
        "\n"
      ]
    },
    {
      "cell_type": "code",
      "execution_count": 30,
      "metadata": {
        "colab": {
          "base_uri": "https://localhost:8080/",
          "height": 103,
          "referenced_widgets": [
            "3dd79ce43ac04c67a14d4a16761f723b",
            "3becdf2137a8454790002e7f024a3fba",
            "26234a61fa17466e85858e4994b62ff8",
            "8c0c16910dce42bbbd98e7ec655958a7",
            "fa568201142f4873a3d89050d471261e",
            "1cb470113297483699362f59939e3600",
            "dcbaf6d06248490b99f362b72c97f310",
            "0d349872b3db420ebc4b0820db0305d7",
            "5158fe90ab1243cfbb5997f705f2ecbb",
            "13dcebb092a840c18d58303d2fdcf4ff",
            "aeae7b6ca6bf431ca502b0b2c011e0ca"
          ]
        },
        "id": "du4Zt20cEwKq",
        "outputId": "ea845a7b-1c95-4076-abf7-9d7c33dc9ca0"
      },
      "outputs": [
        {
          "name": "stderr",
          "output_type": "stream",
          "text": [
            "Using custom data configuration default\n",
            "Reusing dataset emotion (C:\\Users\\masob\\.cache\\huggingface\\datasets\\emotion\\default\\0.0.0\\348f63ca8e27b3713b6c04d723efe6d824a56fb3d1449794716c0f0296072705)\n",
            "100%|██████████| 3/3 [00:00<00:00, 333.43it/s]\n"
          ]
        }
      ],
      "source": [
        "dataset = load_dataset('emotion')"
      ]
    },
    {
      "cell_type": "markdown",
      "metadata": {
        "id": "rAlgEwdWGINg"
      },
      "source": [
        "Dane mamy automatycznie podzielone train set, validation set i test set w stosunku 8:1:1."
      ]
    },
    {
      "cell_type": "code",
      "execution_count": 31,
      "metadata": {
        "colab": {
          "base_uri": "https://localhost:8080/"
        },
        "id": "E1uh1PJPE-d5",
        "outputId": "72d2ebd6-c9c2-4ad6-af44-af898caf60a5"
      },
      "outputs": [
        {
          "name": "stdout",
          "output_type": "stream",
          "text": [
            "DatasetDict({\n",
            "    train: Dataset({\n",
            "        features: ['text', 'label'],\n",
            "        num_rows: 16000\n",
            "    })\n",
            "    validation: Dataset({\n",
            "        features: ['text', 'label'],\n",
            "        num_rows: 2000\n",
            "    })\n",
            "    test: Dataset({\n",
            "        features: ['text', 'label'],\n",
            "        num_rows: 2000\n",
            "    })\n",
            "})\n"
          ]
        }
      ],
      "source": [
        "print(dataset)"
      ]
    },
    {
      "cell_type": "markdown",
      "metadata": {
        "id": "5dEWfFojGYu2"
      },
      "source": [
        "Następnie tworzymy folder, w którym zapiszemy dane."
      ]
    },
    {
      "cell_type": "code",
      "execution_count": 32,
      "metadata": {
        "colab": {
          "base_uri": "https://localhost:8080/"
        },
        "id": "hi6YO6kPGU5C",
        "outputId": "58171032-97e1-40f5-e5c9-ea4081a20c35"
      },
      "outputs": [],
      "source": [
        "if not os.path.exists(\"./data\"):\n",
        "    os.makedirs(\"./data\")"
      ]
    },
    {
      "cell_type": "code",
      "execution_count": 33,
      "metadata": {
        "id": "EAaGp1LuGhK0"
      },
      "outputs": [],
      "source": [
        "train_path = Path('data/train.json')\n",
        "valid_path = Path('data/valid.json')\n",
        "test_path = Path('data/test.json')\n",
        "\n",
        "train_path_binary = Path('data/train_binary.json')\n",
        "valid_path_binary = Path('data/valid_binary.json')\n",
        "test_path_binary = Path('data/test_binary.json')"
      ]
    },
    {
      "cell_type": "code",
      "execution_count": 34,
      "metadata": {
        "colab": {
          "base_uri": "https://localhost:8080/"
        },
        "id": "uBgXI88RGmp-",
        "outputId": "68bcd2d0-4a80-428a-aced-e58c9bd9f175"
      },
      "outputs": [
        {
          "name": "stdout",
          "output_type": "stream",
          "text": [
            "Train: 16000\n",
            "Test: 2000\n",
            "Validation: 2000\n"
          ]
        }
      ],
      "source": [
        "data_train_list, data_valid_list, data_test_list = [], [], []\n",
        "\n",
        "for data_line, data_list in [\n",
        "  (dataset['train'], data_train_list),\n",
        "  (dataset['test'], data_test_list),\n",
        "  (dataset['validation'], data_valid_list)\n",
        "]:\n",
        "  for i, data in enumerate(data_line):\n",
        "    line = {\n",
        "      'label': int(data['label']),\n",
        "      'text': data['text'],\n",
        "    }\n",
        "    data_list.append(line)\n",
        "\n",
        "print(f'Train: {len(data_train_list)}')\n",
        "print(f'Test: {len(data_valid_list)}')\n",
        "print(f'Validation: {len(data_test_list)}')"
      ]
    },
    {
      "cell_type": "code",
      "execution_count": 41,
      "metadata": {},
      "outputs": [],
      "source": [
        "# Zależy czy mapujemy tylko na pozytywne i negatywne czy na 6 co są w datasecie\n",
        "def get_map_label_translation(num_classes = 6):\n",
        "    '''\n",
        "    Possible numbers [2, 6]\n",
        "    '''\n",
        "    if(num_classes == 2):\n",
        "        return {\n",
        "            0: 'negative',\n",
        "            1: 'positive',\n",
        "            2: 'positive',\n",
        "            3: 'negative',\n",
        "            4: 'negative',\n",
        "            5: 'positive',\n",
        "        }\n",
        "    elif(num_classes == 6):\n",
        "        return {\n",
        "            0: 'sadness',\n",
        "            1: 'joy',\n",
        "            2: 'love',\n",
        "            3: 'anger',\n",
        "            4: 'fear',\n",
        "            5: 'suprise',\n",
        "        }\n",
        "\n",
        "def get_value_from_label(label):\n",
        "    if(label in [1, 2, 5]):\n",
        "        return 1\n",
        "    else: \n",
        "        return 0\n",
        "\n",
        "MAP_LABEL_TRANSLATION_2 = get_map_label_translation(2)\n",
        "MAP_LABEL_TRANSLATION_6 = get_map_label_translation(6)"
      ]
    },
    {
      "cell_type": "code",
      "execution_count": 36,
      "metadata": {
        "colab": {
          "base_uri": "https://localhost:8080/"
        },
        "id": "feE1t9t4G0pn",
        "outputId": "3ed9c495-bcd5-459b-e12f-d41b752e682a"
      },
      "outputs": [
        {
          "name": "stdout",
          "output_type": "stream",
          "text": [
            "-- Stats for train set on 6 labels --\n",
            "Label sadness:   4666\n",
            "Label joy:   5362\n",
            "Label love:   1304\n",
            "Label anger:   2159\n",
            "Label fear:   1937\n",
            "Label suprise:    572\n",
            "-- Stats for test set on 6 labels --\n",
            "Label sadness:    581\n",
            "Label joy:    695\n",
            "Label love:    159\n",
            "Label anger:    275\n",
            "Label fear:    224\n",
            "Label suprise:     66\n",
            "-- Stats for validation set on 6 labels--\n",
            "Label sadness:    550\n",
            "Label joy:    704\n",
            "Label love:    178\n",
            "Label anger:    275\n",
            "Label fear:    212\n",
            "Label suprise:     81\n",
            "-- Stats for train set on 2 labels --\n",
            "Label negative:   8762\n",
            "Label positive:   7238\n",
            "-- Stats for test set on 2 labels --\n",
            "Label negative:   1080\n",
            "Label positive:    920\n",
            "-- Stats for validation set on 2 labels--\n",
            "Label negative:   1037\n",
            "Label positive:    963\n"
          ]
        }
      ],
      "source": [
        "data_class_test = {}\n",
        "data_class_train = {}\n",
        "data_class_validation = {}\n",
        "\n",
        "data_class_test_binary = {}\n",
        "data_class_train_binary = {}\n",
        "data_class_validation_binary = {}\n",
        "\n",
        "for label in MAP_LABEL_TRANSLATION_6:\n",
        "  if(MAP_LABEL_TRANSLATION_6[label] not in data_class_test):\n",
        "    data_class_test[MAP_LABEL_TRANSLATION_6[label]] = []\n",
        "    data_class_validation[MAP_LABEL_TRANSLATION_6[label]] = []\n",
        "    data_class_train[MAP_LABEL_TRANSLATION_6[label]] = []\n",
        "\n",
        "for label in MAP_LABEL_TRANSLATION_2:\n",
        "  if(MAP_LABEL_TRANSLATION_2[label] not in data_class_test):\n",
        "    data_class_test_binary[MAP_LABEL_TRANSLATION_2[label]] = []\n",
        "    data_class_validation_binary[MAP_LABEL_TRANSLATION_2[label]] = []\n",
        "    data_class_train_binary[MAP_LABEL_TRANSLATION_2[label]] = []\n",
        "\n",
        "for data in data_valid_list:\n",
        "  data_class_validation[MAP_LABEL_TRANSLATION_6[int(data['label'])]].append(data)\n",
        "for data in data_train_list:\n",
        "  data_class_train[MAP_LABEL_TRANSLATION_6[int(data['label'])]].append(data)\n",
        "for data in data_test_list:\n",
        "  data_class_test[MAP_LABEL_TRANSLATION_6[int(data['label'])]].append(data)\n",
        "\n",
        "for data in data_valid_list:\n",
        "  data_class_validation_binary[MAP_LABEL_TRANSLATION_2[int(data['label'])]].append(data)\n",
        "for data in data_train_list:\n",
        "  data_class_train_binary[MAP_LABEL_TRANSLATION_2[int(data['label'])]].append(data)\n",
        "for data in data_test_list:\n",
        "  data_class_test_binary[MAP_LABEL_TRANSLATION_2[int(data['label'])]].append(data)\n",
        "\n",
        "print('-- Stats for train set on 6 labels --')\n",
        "for label in data_class_train:\n",
        "  print(f'Label {label}: {len(data_class_train[label]):6d}')\n",
        "print('-- Stats for test set on 6 labels --')\n",
        "for label in data_class_test:\n",
        "  print(f'Label {label}: {len(data_class_test[label]):6d}')\n",
        "print('-- Stats for validation set on 6 labels--')\n",
        "for label in data_class_validation:\n",
        "  print(f'Label {label}: {len(data_class_validation[label]):6d}')\n",
        "  \n",
        "print('-- Stats for train set on 2 labels --')\n",
        "for label in data_class_train_binary:\n",
        "  print(f'Label {label}: {len(data_class_train_binary[label]):6d}')\n",
        "print('-- Stats for test set on 2 labels --')\n",
        "for label in data_class_test_binary:\n",
        "  print(f'Label {label}: {len(data_class_test_binary[label]):6d}')\n",
        "print('-- Stats for validation set on 2 labels--')\n",
        "for label in data_class_validation_binary:\n",
        "  print(f'Label {label}: {len(data_class_validation_binary[label]):6d}')\n"
      ]
    },
    {
      "cell_type": "code",
      "execution_count": 37,
      "metadata": {
        "id": "5N7PYFuKHz-2"
      },
      "outputs": [],
      "source": [
        "   \n",
        "def remove_if_exists(f):\n",
        "    if(Path(f).exists()):\n",
        "        f.unlink()\n",
        "\n",
        "def save_unchanged(f, data, binary = True):\n",
        "    remove_if_exists(f)\n",
        "    print(f'Saving into: {f}')\n",
        "    with open(f, 'wt') as f_write:\n",
        "        for data_line in data:\n",
        "            if(binary):\n",
        "                data_line['label'] = get_value_from_label((data_line['label']))\n",
        "            data_line_str = json.dumps(data_line)\n",
        "            f_write.write(f'{data_line_str}\\n')\n",
        "\n",
        "def save_as_translations(f, data_classes, num_entries):\n",
        "    file_name = 'translations-' + f.name\n",
        "    file_path = f.parent / file_name\n",
        "    stats = {}\n",
        "    remove_if_exists(Path(file_path))\n",
        "    print(f'Saving into: {file_path}')\n",
        "    \n",
        "    with open(file_path, 'wt') as f_write:\n",
        "        for class_list in data_classes:\n",
        "            if(num_entries > len(data_classes[class_list])):\n",
        "                samples = data_classes[class_list]\n",
        "            else:\n",
        "                samples = random.sample(data_classes[class_list], num_entries)\n",
        "\n",
        "            stats[f'{class_list} entries'] = len(samples)\n",
        "\n",
        "            for data_line in samples:\n",
        "                data_line['label'] = class_list\n",
        "                data_line_str = json.dumps(data_line)\n",
        "                f_write.write(f'{data_line_str}\\n')\n",
        "        print(stats)"
      ]
    },
    {
      "cell_type": "code",
      "execution_count": 42,
      "metadata": {
        "colab": {
          "base_uri": "https://localhost:8080/",
          "height": 351
        },
        "id": "h1LayjuGH1ye",
        "outputId": "d31f14a8-e50d-4598-e8df-9670da43a66a"
      },
      "outputs": [
        {
          "name": "stdout",
          "output_type": "stream",
          "text": [
            "Saving into: data\\train.json\n",
            "Saving into: data\\translations-train.json\n",
            "{'sadness entries': 1000, 'joy entries': 1000, 'love entries': 1000, 'anger entries': 1000, 'fear entries': 1000, 'suprise entries': 572}\n",
            "Saving into: data\\valid.json\n",
            "Saving into: data\\translations-valid.json\n",
            "{'sadness entries': 100, 'joy entries': 100, 'love entries': 100, 'anger entries': 100, 'fear entries': 100, 'suprise entries': 81}\n",
            "Saving into: data\\test.json\n",
            "Saving into: data\\translations-test.json\n",
            "{'sadness entries': 100, 'joy entries': 100, 'love entries': 100, 'anger entries': 100, 'fear entries': 100, 'suprise entries': 66}\n",
            "Saving into: data\\train_binary.json\n",
            "Saving into: data\\translations-train_binary.json\n",
            "{'negative entries': 1000, 'positive entries': 1000}\n",
            "Saving into: data\\valid_binary.json\n",
            "Saving into: data\\translations-valid_binary.json\n",
            "{'negative entries': 100, 'positive entries': 100}\n",
            "Saving into: data\\test_binary.json\n",
            "Saving into: data\\translations-test_binary.json\n",
            "{'negative entries': 100, 'positive entries': 100}\n"
          ]
        }
      ],
      "source": [
        "# Rozmiar zbiorów, podana wartość to ilość lini dla każdegj klasy, jeżeli dana klasa nie posiada danej ilości lini, wszystkie linie zostaja przekazane.\n",
        "def get_num_of_samples(set_name):\n",
        "    if(set_name == 'train'):\n",
        "        return 1000\n",
        "    else:\n",
        "        return 100\n",
        "\n",
        "for file_path, data_to_save, data_classes, num_entries in [ (train_path, data_train_list, data_class_train, get_num_of_samples('train') ), (valid_path, data_valid_list, data_class_validation, get_num_of_samples('valid')), (test_path, data_test_list, data_class_test, get_num_of_samples('test'))]:\n",
        "  save_unchanged(file_path, data_to_save, False)\n",
        "  save_as_translations(file_path, data_classes, num_entries)\n",
        "\n",
        "for file_path, data_to_save, data_classes, num_entries in [ (train_path_binary, data_train_list, data_class_train_binary, get_num_of_samples('train') ), (valid_path_binary, data_valid_list, data_class_validation_binary, get_num_of_samples('valid')), (test_path_binary, data_test_list, data_class_test_binary, get_num_of_samples('test'))]:\n",
        "  save_unchanged(file_path, data_to_save)\n",
        "  save_as_translations(file_path, data_classes, num_entries)"
      ]
    },
    {
      "cell_type": "markdown",
      "metadata": {},
      "source": [
        "## 🤗 Train"
      ]
    },
    {
      "cell_type": "markdown",
      "metadata": {},
      "source": [
        "Pobranie skryptu dostępnego w bibliotece transformes potrzebnego do uruchomienia modelu."
      ]
    },
    {
      "cell_type": "code",
      "execution_count": 39,
      "metadata": {},
      "outputs": [
        {
          "name": "stderr",
          "output_type": "stream",
          "text": [
            "'wget' is not recognized as an internal or external command,\n",
            "operable program or batch file.\n",
            "'wget' is not recognized as an internal or external command,\n",
            "operable program or batch file.\n",
            "'wget' is not recognized as an internal or external command,\n",
            "operable program or batch file.\n",
            "'wget' is not recognized as an internal or external command,\n",
            "operable program or batch file.\n"
          ]
        }
      ],
      "source": [
        "!wget 'https://raw.githubusercontent.com/huggingface/transformers/v4.12.5/examples/pytorch/text-classification/run_glue_no_trainer.py' -O 'original_run_glue_no_trainer.py'\n",
        "!wget 'https://raw.githubusercontent.com/patrycjalazna/transformers/main/gpt2.py' -O 'gpt2.py'\n",
        "!wget 'https://raw.githubusercontent.com/patrycjalazna/transformers/main/roberta.py' -O 'roberta.py'\n",
        "!wget 'https://raw.githubusercontent.com/patrycjalazna/transformers/main/run_glue_no_trainer.py' -O 'run_glue_no_trainer.py'"
      ]
    },
    {
      "cell_type": "markdown",
      "metadata": {},
      "source": [
        "## GPT2"
      ]
    },
    {
      "cell_type": "markdown",
      "metadata": {},
      "source": [
        "Podstawowy model GPT2, próba polegała na zwiększeniu ilości epoch co poskutkowało wzrostem accuracy z 0.83 na 0.938\n",
        "- Epoch 0: accuracy: 0.9095\n",
        "- Epoch 1: accuracy: 0.9315\n",
        "- Epoch 2: accuracy: 0.9385\n",
        "- Epoch 3: accuracy: 0.938\n",
        "- Evaluation: accuracy: 0.9275"
      ]
    },
    {
      "cell_type": "code",
      "execution_count": 40,
      "metadata": {},
      "outputs": [
        {
          "name": "stdout",
          "output_type": "stream",
          "text": [
            "^C\n"
          ]
        }
      ],
      "source": [
        "!python run_glue_no_trainer.py \\\n",
        "  --model_name_or_path gpt2 \\\n",
        "  --train_file data/train.json  \\\n",
        "  --validation_file data/valid.json \\\n",
        "  --test_file data/test.json \\\n",
        "  --per_device_train_batch_size 24 \\\n",
        "  --per_device_eval_batch_size 24 \\\n",
        "  --max_length 128 \\\n",
        "  --learning_rate 2e-5 \\\n",
        "  --num_train_epochs 4 \\\n",
        "  --output_dir out/gpt2_version1"
      ]
    },
    {
      "cell_type": "markdown",
      "metadata": {},
      "source": [
        "## Version 2\n",
        "### GPT2ForSequenceClassificationCustom\n",
        "Model z pliku gpt2.py, dodatkowo uruchomiony z flagą freeze_model uruchomiony na 4 epochach:\n",
        "- Epoch 0 accuracy: 0.462\n",
        "- Epoch 1 accuracy: 0.4645\n",
        "- Epoch 2 accuracy: 0.4615\n",
        "- Epoch 3 accuracy: 0.4745\n",
        "- Evaluation accurracy: 0.4795"
      ]
    },
    {
      "cell_type": "code",
      "execution_count": null,
      "metadata": {},
      "outputs": [],
      "source": [
        "!python run_glue_no_trainer.py \\\n",
        "  --model_name_or_path gpt2 \\\n",
        "  --train_file data/train.json  \\\n",
        "  --validation_file data/valid.json \\\n",
        "  --test_file data/test.json \\\n",
        "  --per_device_train_batch_size 24 \\\n",
        "  --per_device_eval_batch_size 24 \\\n",
        "  --max_length 128 \\\n",
        "  --freeze_model \\\n",
        "  --custom_model \\\n",
        "  --learning_rate 2e-5 \\\n",
        "  --num_train_epochs 4 \\\n",
        "  --output_dir out/gpt2_version_2"
      ]
    },
    {
      "cell_type": "markdown",
      "metadata": {},
      "source": [
        "## Version 3\n",
        "### GPT2ForSequenceClassificationCustomVersion2\n",
        "Dodana została nowa warstwa, dodatkowo uruchomiony z flagą freeze_model na 2 epochach. Zmieniony został parametr max_length z 128 na 256, oraz train_batch_size z 24 na 32: \n",
        "- Epoch 0: accuracy: 0.3765\n",
        "- Epoch 1: accuracy: 0.4210\n",
        "- Evaluation accurracy: 0.4339"
      ]
    },
    {
      "cell_type": "code",
      "execution_count": null,
      "metadata": {},
      "outputs": [],
      "source": [
        "!python run_glue_no_trainer.py \\\n",
        " !python run_glue_no_trainer.py \\\n",
        "  --model_name_or_path gpt2 \\\n",
        "  --train_file data/train.json  \\\n",
        "  --validation_file data/valid.json \\\n",
        "  --test_file data/test.json \\\n",
        "  --per_device_train_batch_size 32 \\\n",
        "  --per_device_eval_batch_size 32 \\\n",
        "  --max_length 254 \\\n",
        "  --freeze_model \\\n",
        "  --custom_model \\\n",
        "  --return_hidden_states \\\n",
        "  --learning_rate 2e-5 \\\n",
        "  --num_train_epochs 2 \\\n",
        "  --output_dir out/imdb/gpt2_version_3"
      ]
    },
    {
      "cell_type": "markdown",
      "metadata": {},
      "source": [
        "## Version 4\n",
        "### GPT2ForSequenceClassificationCustomVersion2\n",
        "Dodana została nowa warstwa, dodatkowo uruchomiony z flagą freeze_model na 8 epochach. Zmieniony został parametr, oraz train_batch_size z 24 na 16: \n",
        "- Epoch 0: accuracy: 0.3765\n",
        "- Epoch 1: accuracy: 0.4210\n",
        "- Evaluation accurracy: 0.4339"
      ]
    },
    {
      "cell_type": "code",
      "execution_count": null,
      "metadata": {},
      "outputs": [],
      "source": [
        "!python run_glue_no_trainer.py \\\n",
        "  --model_name_or_path gpt2 \\\n",
        "  --train_file data/train.json  \\\n",
        "  --validation_file data/valid.json \\\n",
        "  --test_file data/test.json \\\n",
        "  --per_device_train_batch_size 16 \\\n",
        "  --per_device_eval_batch_size 16 \\\n",
        "  --max_length 128 \\\n",
        "  --freeze_model \\\n",
        "  --custom_model \\\n",
        "  --return_hidden_states \\\n",
        "  --learning_rate 2e-5 \\\n",
        "  --num_train_epochs 8 \\\n",
        "  --output_dir out/gpt2_version_4"
      ]
    },
    {
      "cell_type": "markdown",
      "metadata": {},
      "source": [
        "## Version 5\n",
        "### GPT2ForSequenceClassificationCustomVersion2\n",
        "Dodana została nowa warstwa, dodatkowo uruchomiony 4 epochach. Różnica w tej wersji polega na zmianie klasyfikacji z 6 labeli na 2. Uznaliśmy że ciekawym będzie porównanie wyników i na potrzeby prób przekonwertujemy nasz dataset emocji tylko na podział pomiędzy pozytywnymi, a negatywnymi:\n",
        "- sadness = negative\n",
        "- joy = positive\n",
        "- love = positive\n",
        "- anger = negative\n",
        "- fear = negative\n",
        "- suprise = positive\n",
        "\n",
        "Wyniki prezentują się następująco:\n",
        "- Epoch 0: accuracy: 0.3765\n",
        "- Epoch 1: accuracy: 0.4210\n",
        "- Evaluation accurracy: 0.4339"
      ]
    },
    {
      "cell_type": "code",
      "execution_count": null,
      "metadata": {},
      "outputs": [],
      "source": [
        "!python run_glue_no_trainer.py \\\n",
        "  --model_name_or_path gpt2 \\\n",
        "  --train_file data/train_binary.json  \\\n",
        "  --validation_file data/valid_binary.json \\\n",
        "  --test_file data/test_binary.json \\\n",
        "  --per_device_train_batch_size 24 \\\n",
        "  --per_device_eval_batch_size 24 \\\n",
        "  --freeze_model \\\n",
        "  --custom_model \\\n",
        "  --return_hidden_states \\\n",
        "  --max_length 128 \\\n",
        "  --learning_rate 2e-5 \\\n",
        "  --num_train_epochs 4 \\\n",
        "  --output_dir out/gpt2"
      ]
    }
  ],
  "metadata": {
    "accelerator": "GPU",
    "colab": {
      "authorship_tag": "ABX9TyOzZAFS2GaoMv275lau9a4h",
      "include_colab_link": true,
      "name": "project.ipynb",
      "provenance": []
    },
    "kernelspec": {
      "display_name": "Python 3",
      "name": "python3"
    },
    "language_info": {
      "codemirror_mode": {
        "name": "ipython",
        "version": 3
      },
      "file_extension": ".py",
      "mimetype": "text/x-python",
      "name": "python",
      "nbconvert_exporter": "python",
      "pygments_lexer": "ipython3",
      "version": "3.9.0"
    },
    "widgets": {
      "application/vnd.jupyter.widget-state+json": {
        "0d349872b3db420ebc4b0820db0305d7": {
          "model_module": "@jupyter-widgets/controls",
          "model_module_version": "1.5.0",
          "model_name": "ProgressStyleModel",
          "state": {
            "_model_module": "@jupyter-widgets/controls",
            "_model_module_version": "1.5.0",
            "_model_name": "ProgressStyleModel",
            "_view_count": null,
            "_view_module": "@jupyter-widgets/base",
            "_view_module_version": "1.2.0",
            "_view_name": "StyleView",
            "bar_color": null,
            "description_width": ""
          }
        },
        "13dcebb092a840c18d58303d2fdcf4ff": {
          "model_module": "@jupyter-widgets/controls",
          "model_module_version": "1.5.0",
          "model_name": "DescriptionStyleModel",
          "state": {
            "_model_module": "@jupyter-widgets/controls",
            "_model_module_version": "1.5.0",
            "_model_name": "DescriptionStyleModel",
            "_view_count": null,
            "_view_module": "@jupyter-widgets/base",
            "_view_module_version": "1.2.0",
            "_view_name": "StyleView",
            "description_width": ""
          }
        },
        "1cb470113297483699362f59939e3600": {
          "model_module": "@jupyter-widgets/controls",
          "model_module_version": "1.5.0",
          "model_name": "DescriptionStyleModel",
          "state": {
            "_model_module": "@jupyter-widgets/controls",
            "_model_module_version": "1.5.0",
            "_model_name": "DescriptionStyleModel",
            "_view_count": null,
            "_view_module": "@jupyter-widgets/base",
            "_view_module_version": "1.2.0",
            "_view_name": "StyleView",
            "description_width": ""
          }
        },
        "26234a61fa17466e85858e4994b62ff8": {
          "model_module": "@jupyter-widgets/controls",
          "model_module_version": "1.5.0",
          "model_name": "HTMLModel",
          "state": {
            "_dom_classes": [],
            "_model_module": "@jupyter-widgets/controls",
            "_model_module_version": "1.5.0",
            "_model_name": "HTMLModel",
            "_view_count": null,
            "_view_module": "@jupyter-widgets/controls",
            "_view_module_version": "1.5.0",
            "_view_name": "HTMLView",
            "description": "",
            "description_tooltip": null,
            "layout": "IPY_MODEL_dcbaf6d06248490b99f362b72c97f310",
            "placeholder": "​",
            "style": "IPY_MODEL_1cb470113297483699362f59939e3600",
            "value": "100%"
          }
        },
        "3becdf2137a8454790002e7f024a3fba": {
          "model_module": "@jupyter-widgets/base",
          "model_module_version": "1.2.0",
          "model_name": "LayoutModel",
          "state": {
            "_model_module": "@jupyter-widgets/base",
            "_model_module_version": "1.2.0",
            "_model_name": "LayoutModel",
            "_view_count": null,
            "_view_module": "@jupyter-widgets/base",
            "_view_module_version": "1.2.0",
            "_view_name": "LayoutView",
            "align_content": null,
            "align_items": null,
            "align_self": null,
            "border": null,
            "bottom": null,
            "display": null,
            "flex": null,
            "flex_flow": null,
            "grid_area": null,
            "grid_auto_columns": null,
            "grid_auto_flow": null,
            "grid_auto_rows": null,
            "grid_column": null,
            "grid_gap": null,
            "grid_row": null,
            "grid_template_areas": null,
            "grid_template_columns": null,
            "grid_template_rows": null,
            "height": null,
            "justify_content": null,
            "justify_items": null,
            "left": null,
            "margin": null,
            "max_height": null,
            "max_width": null,
            "min_height": null,
            "min_width": null,
            "object_fit": null,
            "object_position": null,
            "order": null,
            "overflow": null,
            "overflow_x": null,
            "overflow_y": null,
            "padding": null,
            "right": null,
            "top": null,
            "visibility": null,
            "width": null
          }
        },
        "3dd79ce43ac04c67a14d4a16761f723b": {
          "model_module": "@jupyter-widgets/controls",
          "model_module_version": "1.5.0",
          "model_name": "HBoxModel",
          "state": {
            "_dom_classes": [],
            "_model_module": "@jupyter-widgets/controls",
            "_model_module_version": "1.5.0",
            "_model_name": "HBoxModel",
            "_view_count": null,
            "_view_module": "@jupyter-widgets/controls",
            "_view_module_version": "1.5.0",
            "_view_name": "HBoxView",
            "box_style": "",
            "children": [
              "IPY_MODEL_26234a61fa17466e85858e4994b62ff8",
              "IPY_MODEL_8c0c16910dce42bbbd98e7ec655958a7",
              "IPY_MODEL_fa568201142f4873a3d89050d471261e"
            ],
            "layout": "IPY_MODEL_3becdf2137a8454790002e7f024a3fba"
          }
        },
        "5158fe90ab1243cfbb5997f705f2ecbb": {
          "model_module": "@jupyter-widgets/base",
          "model_module_version": "1.2.0",
          "model_name": "LayoutModel",
          "state": {
            "_model_module": "@jupyter-widgets/base",
            "_model_module_version": "1.2.0",
            "_model_name": "LayoutModel",
            "_view_count": null,
            "_view_module": "@jupyter-widgets/base",
            "_view_module_version": "1.2.0",
            "_view_name": "LayoutView",
            "align_content": null,
            "align_items": null,
            "align_self": null,
            "border": null,
            "bottom": null,
            "display": null,
            "flex": null,
            "flex_flow": null,
            "grid_area": null,
            "grid_auto_columns": null,
            "grid_auto_flow": null,
            "grid_auto_rows": null,
            "grid_column": null,
            "grid_gap": null,
            "grid_row": null,
            "grid_template_areas": null,
            "grid_template_columns": null,
            "grid_template_rows": null,
            "height": null,
            "justify_content": null,
            "justify_items": null,
            "left": null,
            "margin": null,
            "max_height": null,
            "max_width": null,
            "min_height": null,
            "min_width": null,
            "object_fit": null,
            "object_position": null,
            "order": null,
            "overflow": null,
            "overflow_x": null,
            "overflow_y": null,
            "padding": null,
            "right": null,
            "top": null,
            "visibility": null,
            "width": null
          }
        },
        "8c0c16910dce42bbbd98e7ec655958a7": {
          "model_module": "@jupyter-widgets/controls",
          "model_module_version": "1.5.0",
          "model_name": "FloatProgressModel",
          "state": {
            "_dom_classes": [],
            "_model_module": "@jupyter-widgets/controls",
            "_model_module_version": "1.5.0",
            "_model_name": "FloatProgressModel",
            "_view_count": null,
            "_view_module": "@jupyter-widgets/controls",
            "_view_module_version": "1.5.0",
            "_view_name": "ProgressView",
            "bar_style": "success",
            "description": "",
            "description_tooltip": null,
            "layout": "IPY_MODEL_5158fe90ab1243cfbb5997f705f2ecbb",
            "max": 3,
            "min": 0,
            "orientation": "horizontal",
            "style": "IPY_MODEL_0d349872b3db420ebc4b0820db0305d7",
            "value": 3
          }
        },
        "aeae7b6ca6bf431ca502b0b2c011e0ca": {
          "model_module": "@jupyter-widgets/base",
          "model_module_version": "1.2.0",
          "model_name": "LayoutModel",
          "state": {
            "_model_module": "@jupyter-widgets/base",
            "_model_module_version": "1.2.0",
            "_model_name": "LayoutModel",
            "_view_count": null,
            "_view_module": "@jupyter-widgets/base",
            "_view_module_version": "1.2.0",
            "_view_name": "LayoutView",
            "align_content": null,
            "align_items": null,
            "align_self": null,
            "border": null,
            "bottom": null,
            "display": null,
            "flex": null,
            "flex_flow": null,
            "grid_area": null,
            "grid_auto_columns": null,
            "grid_auto_flow": null,
            "grid_auto_rows": null,
            "grid_column": null,
            "grid_gap": null,
            "grid_row": null,
            "grid_template_areas": null,
            "grid_template_columns": null,
            "grid_template_rows": null,
            "height": null,
            "justify_content": null,
            "justify_items": null,
            "left": null,
            "margin": null,
            "max_height": null,
            "max_width": null,
            "min_height": null,
            "min_width": null,
            "object_fit": null,
            "object_position": null,
            "order": null,
            "overflow": null,
            "overflow_x": null,
            "overflow_y": null,
            "padding": null,
            "right": null,
            "top": null,
            "visibility": null,
            "width": null
          }
        },
        "dcbaf6d06248490b99f362b72c97f310": {
          "model_module": "@jupyter-widgets/base",
          "model_module_version": "1.2.0",
          "model_name": "LayoutModel",
          "state": {
            "_model_module": "@jupyter-widgets/base",
            "_model_module_version": "1.2.0",
            "_model_name": "LayoutModel",
            "_view_count": null,
            "_view_module": "@jupyter-widgets/base",
            "_view_module_version": "1.2.0",
            "_view_name": "LayoutView",
            "align_content": null,
            "align_items": null,
            "align_self": null,
            "border": null,
            "bottom": null,
            "display": null,
            "flex": null,
            "flex_flow": null,
            "grid_area": null,
            "grid_auto_columns": null,
            "grid_auto_flow": null,
            "grid_auto_rows": null,
            "grid_column": null,
            "grid_gap": null,
            "grid_row": null,
            "grid_template_areas": null,
            "grid_template_columns": null,
            "grid_template_rows": null,
            "height": null,
            "justify_content": null,
            "justify_items": null,
            "left": null,
            "margin": null,
            "max_height": null,
            "max_width": null,
            "min_height": null,
            "min_width": null,
            "object_fit": null,
            "object_position": null,
            "order": null,
            "overflow": null,
            "overflow_x": null,
            "overflow_y": null,
            "padding": null,
            "right": null,
            "top": null,
            "visibility": null,
            "width": null
          }
        },
        "fa568201142f4873a3d89050d471261e": {
          "model_module": "@jupyter-widgets/controls",
          "model_module_version": "1.5.0",
          "model_name": "HTMLModel",
          "state": {
            "_dom_classes": [],
            "_model_module": "@jupyter-widgets/controls",
            "_model_module_version": "1.5.0",
            "_model_name": "HTMLModel",
            "_view_count": null,
            "_view_module": "@jupyter-widgets/controls",
            "_view_module_version": "1.5.0",
            "_view_name": "HTMLView",
            "description": "",
            "description_tooltip": null,
            "layout": "IPY_MODEL_aeae7b6ca6bf431ca502b0b2c011e0ca",
            "placeholder": "​",
            "style": "IPY_MODEL_13dcebb092a840c18d58303d2fdcf4ff",
            "value": " 3/3 [00:00&lt;00:00, 71.54it/s]"
          }
        }
      }
    }
  },
  "nbformat": 4,
  "nbformat_minor": 0
}
