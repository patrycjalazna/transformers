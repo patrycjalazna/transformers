{
 "cells": [
  {
   "cell_type": "code",
   "execution_count": 3,
   "metadata": {},
   "outputs": [
    {
     "name": "stderr",
     "output_type": "stream",
     "text": [
      "2022-02-20 17:19:55.418824: I tensorflow/stream_executor/platform/default/dso_loader.cc:49] Successfully opened dynamic library cudart64_110.dll\n",
      "usage: run_glue_no_trainer.py [-h]\n",
      "                              [--task_name {cola,mnli,mrpc,qnli,qqp,rte,sst2,stsb,wnli}]\n",
      "                              [--train_file TRAIN_FILE]\n",
      "                              [--validation_file VALIDATION_FILE]\n",
      "                              [--max_length MAX_LENGTH] [--pad_to_max_length]\n",
      "                              --model_name_or_path MODEL_NAME_OR_PATH\n",
      "                              [--use_slow_tokenizer]\n",
      "                              [--per_device_train_batch_size PER_DEVICE_TRAIN_BATCH_SIZE]\n",
      "                              [--per_device_eval_batch_size PER_DEVICE_EVAL_BATCH_SIZE]\n",
      "                              [--learning_rate LEARNING_RATE]\n",
      "                              [--weight_decay WEIGHT_DECAY]\n",
      "                              [--num_train_epochs NUM_TRAIN_EPOCHS]\n",
      "                              [--max_train_steps MAX_TRAIN_STEPS]\n",
      "                              [--gradient_accumulation_steps GRADIENT_ACCUMULATION_STEPS]\n",
      "                              [--lr_scheduler_type {linear,cosine,cosine_with_restarts,polynomial,constant,constant_with_warmup}]\n",
      "                              [--num_warmup_steps NUM_WARMUP_STEPS]\n",
      "                              [--output_dir OUTPUT_DIR] [--seed SEED]\n",
      "                              [--push_to_hub] [--hub_model_id HUB_MODEL_ID]\n",
      "                              [--hub_token HUB_TOKEN]\n",
      "run_glue_no_trainer.py: error: unrecognized arguments: --test_file data/test.json\n"
     ]
    }
   ],
   "source": [
    "!python run_glue_no_trainer.py \\\n",
    "  --model_name_or_path gpt2 \\\n",
    "  --train_file data/train.json  \\\n",
    "  --validation_file data/valid.json \\\n",
    "  --per_device_train_batch_size 24 \\\n",
    "  --per_device_eval_batch_size 24 \\\n",
    "  --max_length 128 \\\n",
    "  --learning_rate 2e-5 \\\n",
    "  --num_train_epochs 1 \\\n",
    "  --output_dir out/gpt2"
   ]
  }
 ],
 "metadata": {
  "interpreter": {
   "hash": "4c611b4cdc8fa7c9488ced68b4b5e12aeb7d0751496093c8e02efd66cfb42e77"
  },
  "kernelspec": {
   "display_name": "Python 3.9.0 ('venv': venv)",
   "language": "python",
   "name": "python3"
  },
  "language_info": {
   "codemirror_mode": {
    "name": "ipython",
    "version": 3
   },
   "file_extension": ".py",
   "mimetype": "text/x-python",
   "name": "python",
   "nbconvert_exporter": "python",
   "pygments_lexer": "ipython3",
   "version": "3.9.0"
  },
  "orig_nbformat": 4
 },
 "nbformat": 4,
 "nbformat_minor": 2
}
